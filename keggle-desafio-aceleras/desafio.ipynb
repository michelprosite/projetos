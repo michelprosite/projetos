{
 "cells": [
  {
   "attachments": {},
   "cell_type": "markdown",
   "metadata": {},
   "source": [
    "# Michel Souza Santana\n",
    "## Projeto Desafio Aceleras\n",
    "## Trilha 1\n",
    "> Start: 15/05/2023"
   ]
  },
  {
   "attachments": {},
   "cell_type": "markdown",
   "metadata": {},
   "source": [
    "## Carregando as bibliotecas"
   ]
  },
  {
   "cell_type": "code",
   "execution_count": null,
   "metadata": {},
   "outputs": [],
   "source": [
    "import pandas as pd\n",
    "import numpy as np\n",
    "import pyarrow\n",
    "import os\n",
    "import csv"
   ]
  },
  {
   "attachments": {},
   "cell_type": "markdown",
   "metadata": {},
   "source": [
    "## Instalando o pyrrow para conversão dos arquivos csv em parquet"
   ]
  },
  {
   "cell_type": "code",
   "execution_count": null,
   "metadata": {},
   "outputs": [],
   "source": [
    "#!pip install pyarrow\n"
   ]
  },
  {
   "attachments": {},
   "cell_type": "markdown",
   "metadata": {},
   "source": [
    "## Criando os diretórios estruturis do projeto"
   ]
  },
  {
   "cell_type": "code",
   "execution_count": null,
   "metadata": {},
   "outputs": [],
   "source": [
    "diretorio = \"/opt/projetos/keggle-desafio-aceleras\" \n",
    "\n",
    "if not os.path.exists(diretorio + '/engineer'):\n",
    "    os.makedirs(diretorio + '/engineer')\n",
    "    print(\"Diretório criado com sucesso!\")\n",
    "else:\n",
    "    print(\"O diretório já existe.\")\n"
   ]
  },
  {
   "cell_type": "code",
   "execution_count": null,
   "metadata": {},
   "outputs": [],
   "source": [
    "diretorio = \"/opt/projetos/keggle-desafio-aceleras\" \n",
    "\n",
    "if not os.path.exists(diretorio + '/raw'):\n",
    "    os.makedirs(diretorio + '/raw')\n",
    "    print(\"Diretório criado com sucesso!\")\n",
    "else:\n",
    "    print(\"O diretório já existe.\")"
   ]
  },
  {
   "cell_type": "code",
   "execution_count": null,
   "metadata": {},
   "outputs": [],
   "source": [
    "diretorio = \"/opt/projetos/keggle-desafio-aceleras\" \n",
    "\n",
    "if not os.path.exists(diretorio + '/refined'):\n",
    "    os.makedirs(diretorio + '/refined')\n",
    "    print(\"Diretório criado com sucesso!\")\n",
    "else:\n",
    "    print(\"O diretório já existe.\")"
   ]
  },
  {
   "cell_type": "code",
   "execution_count": null,
   "metadata": {},
   "outputs": [],
   "source": [
    "diretorio = \"/opt/projetos/keggle-desafio-aceleras\" \n",
    "\n",
    "if not os.path.exists(diretorio + '/transient'):\n",
    "    os.makedirs(diretorio + '/transient')\n",
    "    print(\"Diretório criado com sucesso!\")\n",
    "else:\n",
    "    print(\"O diretório já existe.\")"
   ]
  },
  {
   "cell_type": "code",
   "execution_count": null,
   "metadata": {},
   "outputs": [],
   "source": [
    "diretorio = \"/opt/projetos/keggle-desafio-aceleras\" \n",
    "\n",
    "if not os.path.exists(diretorio + '/trusted'):\n",
    "    os.makedirs(diretorio + '/trusted')\n",
    "    print(\"Diretório criado com sucesso!\")\n",
    "else:\n",
    "    print(\"O diretório já existe.\")"
   ]
  },
  {
   "attachments": {},
   "cell_type": "markdown",
   "metadata": {},
   "source": [
    "## Criando o arquivo 'controller.csv' na pasta enginner"
   ]
  },
  {
   "cell_type": "code",
   "execution_count": null,
   "metadata": {},
   "outputs": [],
   "source": [
    "# Caminho do arquivo CSV\n",
    "caminho_arquivo = '/opt/projetos/keggle-desafio-aceleras/engineer/controller.csv'\n",
    "dados = ''\n",
    "\n",
    "# Verificar se já existe o arquivo, se não, abrir o arquivo CSV em modo de escrita e criá-lo\n",
    "if not os.path.exists(caminho_arquivo):\n",
    "    with open(caminho_arquivo, 'w', newline='') as arquivo_csv:\n",
    "        writer = csv.writer(arquivo_csv)\n",
    "        writer.writerows(dados)\n",
    "\n",
    "    print(\"Arquivo CSV criado com sucesso.\")\n",
    "else:\n",
    "    print(\"Arquivo CSV já existe.\")"
   ]
  },
  {
   "attachments": {},
   "cell_type": "markdown",
   "metadata": {},
   "source": [
    "# Identificar as fontes de dados: "
   ]
  },
  {
   "attachments": {},
   "cell_type": "markdown",
   "metadata": {},
   "source": [
    "https://www.kaggle.com/datasets/olistbr/brazilian-ecommerce\n",
    "\n",
    "A URL em questão se refere a um conjunto de dados disponibilizado no site Kaggle, que contém informações sobre o comércio eletrônico no Brasil. O conjunto de dados é intitulado \"Brazilian E-Commerce Public Dataset by Olist\" e foi criado pela empresa Olist, que é uma plataforma de vendas on-line que conecta pequenos e médios varejistas a marketplaces.\n",
    "\n",
    "O conjunto de dados contém informações de mais de 100 mil pedidos de clientes, com dados que incluem informações do produto, preços, prazos de entrega, avaliações de clientes e informações sobre o vendedor. Além disso, o conjunto de dados contém informações sobre geolocalização dos clientes, categoria de produtos e informações sobre a própria loja virtual.\n",
    "\n",
    "Este conjunto de dados pode ser extremamente útil para análises sobre comércio eletrônico no Brasil, permitindo a análise de tendências de consumo, comportamento dos clientes, performance de vendas e muito mais. A disponibilização de dados desse tipo é importante para o desenvolvimento de modelos de negócios mais eficientes e para a tomada de decisões mais informadas no setor de e-commerce brasileiro."
   ]
  },
  {
   "attachments": {},
   "cell_type": "markdown",
   "metadata": {},
   "source": [
    "## Copia os dados das fontes do kaggle"
   ]
  },
  {
   "attachments": {},
   "cell_type": "markdown",
   "metadata": {},
   "source": [
    "### Instalando o Kaggle"
   ]
  },
  {
   "cell_type": "code",
   "execution_count": null,
   "metadata": {},
   "outputs": [],
   "source": [
    "#!pip install kaggle --upgrade"
   ]
  },
  {
   "attachments": {},
   "cell_type": "markdown",
   "metadata": {},
   "source": [
    "### Baixando os arquivos csv"
   ]
  },
  {
   "cell_type": "code",
   "execution_count": null,
   "metadata": {},
   "outputs": [],
   "source": [
    "if not os.path.exists('/opt/projetos/keggle-desafio-aceleras/transient/brazilian-ecommerce.zip'):\n",
    "    !cd /opt/projetos/keggle-desafio-aceleras/transient/ && kaggle datasets download -d olistbr/brazilian-ecommerce\n",
    "    !cd /opt/projetos/keggle-desafio-aceleras/transient/ && unzip brazilian-ecommerce.zip\n",
    "    print('Arquivo carregado e descompactado.')\n",
    "else:\n",
    "    print('Arquivo já existe.')"
   ]
  },
  {
   "attachments": {},
   "cell_type": "markdown",
   "metadata": {},
   "source": [
    "## Criando as variáveis necessárias para manipulação dos arquivos csv's"
   ]
  },
  {
   "cell_type": "code",
   "execution_count": null,
   "metadata": {},
   "outputs": [],
   "source": [
    "# Path's das pastas\n",
    "path_transient = '/opt/projetos/keggle-desafio-aceleras/transient'\n",
    "path_raw = '/opt/projetos/keggle-desafio-aceleras/raw'\n",
    "\n",
    "# Path's dos arquivos\n",
    "path_customers = path_transient + '/olist_customers_dataset.csv'\n",
    "path_geolocation = path_transient + '/olist_geolocation_dataset.csv'\n",
    "path_order_items = path_transient + '/olist_order_items_dataset.csv'\n",
    "path_order_payments = path_transient + '/olist_order_payments_dataset.csv'\n",
    "path_order_reviews = path_transient + '/olist_order_reviews_dataset.csv'\n",
    "path_orders = path_transient + '/olist_orders_dataset.csv'\n",
    "path_products = path_transient + '/olist_products_dataset.csv'\n",
    "path_sellers = path_transient + '/olist_sellers_dataset.csv'\n"
   ]
  },
  {
   "cell_type": "code",
   "execution_count": null,
   "metadata": {},
   "outputs": [],
   "source": [
    "df_customers = pd.read_csv(path_customers)\n",
    "df_customers = df_customers.astype('str')\n",
    "df_customers.to_parquet(path_raw + \"/customers.parquet\")\n",
    "\n",
    "# Verificar os tipos de dados convertidos\n",
    "print(df_customers.dtypes)\n"
   ]
  },
  {
   "cell_type": "code",
   "execution_count": null,
   "metadata": {},
   "outputs": [],
   "source": [
    "df_geolocation = pd.read_csv(path_geolocation)\n",
    "df_geolocation = df_geolocation.astype('str')\n",
    "df_geolocation.to_parquet(path_raw + \"/geolocation.parquet\")\n",
    "\n",
    "# Verificar os tipos de dados convertidos\n",
    "print(df_geolocation.dtypes)\n"
   ]
  },
  {
   "cell_type": "code",
   "execution_count": null,
   "metadata": {},
   "outputs": [],
   "source": [
    "df_order_items = pd.read_csv(path_order_items)\n",
    "df_order_items = df_order_items.astype('str')\n",
    "df_order_items.to_parquet(path_raw + \"/order_items.parquet\")\n",
    "\n",
    "# Verificar os tipos de dados convertidos\n",
    "print(df_order_items.dtypes)\n"
   ]
  },
  {
   "cell_type": "code",
   "execution_count": null,
   "metadata": {},
   "outputs": [],
   "source": [
    "df_order_payments = pd.read_csv(path_order_payments)\n",
    "df_order_payments = df_order_payments.astype('str')\n",
    "df_order_payments.to_parquet(path_raw + \"/order_payments.parquet\")\n",
    "\n",
    "# Verificar os tipos de dados convertidos\n",
    "print(df_order_payments.dtypes)\n"
   ]
  },
  {
   "cell_type": "code",
   "execution_count": null,
   "metadata": {},
   "outputs": [],
   "source": [
    "df_order_reviews = pd.read_csv(path_order_reviews)\n",
    "df_order_reviews = df_order_reviews.astype('str')\n",
    "df_order_reviews.to_parquet(path_raw + \"/order_reviews.parquet\")\n",
    "\n",
    "# Verificar os tipos de dados convertidos\n",
    "print(df_order_reviews.dtypes)\n"
   ]
  },
  {
   "cell_type": "code",
   "execution_count": null,
   "metadata": {},
   "outputs": [],
   "source": [
    "df_orders = pd.read_csv(path_orders)\n",
    "df_orders = df_orders.astype('str')\n",
    "df_orders.to_parquet(path_raw + \"/orders.parquet\")\n",
    "\n",
    "# Verificar os tipos de dados convertidos\n",
    "print(df_orders.dtypes)\n"
   ]
  },
  {
   "cell_type": "code",
   "execution_count": null,
   "metadata": {},
   "outputs": [],
   "source": [
    "df_products = pd.read_csv(path_products)\n",
    "df_products = df_products.astype('str')\n",
    "df_products.to_parquet(path_raw + \"/products.parquet\")\n",
    "\n",
    "# Verificar os tipos de dados convertidos\n",
    "print(df_products.dtypes)\n"
   ]
  },
  {
   "cell_type": "code",
   "execution_count": null,
   "metadata": {},
   "outputs": [],
   "source": [
    "df_sellers = pd.read_csv(path_sellers)\n",
    "df_sellers = df_sellers.astype('str')\n",
    "df_sellers.to_parquet(path_raw + \"/sellers.parquet\")\n",
    "\n",
    "# Verificar os tipos de dados convertidos\n",
    "print(df_sellers.dtypes)\n"
   ]
  },
  {
   "attachments": {},
   "cell_type": "markdown",
   "metadata": {},
   "source": [
    "## Criando uma tabela via conexão com Mysql existente"
   ]
  },
  {
   "attachments": {},
   "cell_type": "markdown",
   "metadata": {},
   "source": [
    "### instalando mysql connector"
   ]
  },
  {
   "cell_type": "code",
   "execution_count": null,
   "metadata": {},
   "outputs": [],
   "source": [
    "#!pip install mysql-connector-python"
   ]
  },
  {
   "attachments": {},
   "cell_type": "markdown",
   "metadata": {},
   "source": [
    "### Modelagem"
   ]
  },
  {
   "attachments": {},
   "cell_type": "markdown",
   "metadata": {},
   "source": [
    "![Alt text](Captura%20de%20tela%20de%202023-05-15%2021-17-16.png)"
   ]
  },
  {
   "cell_type": "code",
   "execution_count": null,
   "metadata": {},
   "outputs": [],
   "source": [
    "lista = list(df_customers.columns)\n",
    "lista"
   ]
  },
  {
   "cell_type": "code",
   "execution_count": null,
   "metadata": {},
   "outputs": [],
   "source": [
    "lista = list(df_geolocation.columns)\n",
    "lista"
   ]
  },
  {
   "cell_type": "code",
   "execution_count": null,
   "metadata": {},
   "outputs": [],
   "source": [
    "lista = list(df_orders.columns)\n",
    "lista"
   ]
  },
  {
   "cell_type": "code",
   "execution_count": null,
   "metadata": {},
   "outputs": [],
   "source": [
    "lista = list(df_order_items.columns)\n",
    "lista"
   ]
  },
  {
   "cell_type": "code",
   "execution_count": null,
   "metadata": {},
   "outputs": [],
   "source": [
    "lista = list(df_order_payments.columns)\n",
    "lista"
   ]
  },
  {
   "cell_type": "code",
   "execution_count": null,
   "metadata": {},
   "outputs": [],
   "source": [
    "lista = list(df_order_reviews.columns)\n",
    "lista"
   ]
  },
  {
   "cell_type": "code",
   "execution_count": null,
   "metadata": {},
   "outputs": [],
   "source": [
    "lista = list(df_products.columns)\n",
    "lista"
   ]
  },
  {
   "cell_type": "code",
   "execution_count": null,
   "metadata": {},
   "outputs": [],
   "source": [
    "lista = list(df_products.columns)\n",
    "lista\n"
   ]
  },
  {
   "cell_type": "code",
   "execution_count": null,
   "metadata": {},
   "outputs": [],
   "source": [
    "lista = list(df_sellers.columns)\n",
    "lista"
   ]
  },
  {
   "attachments": {},
   "cell_type": "markdown",
   "metadata": {},
   "source": [
    "## Diagrama Entidade Relacionamento\n"
   ]
  },
  {
   "attachments": {},
   "cell_type": "markdown",
   "metadata": {},
   "source": [
    "![Alt text](../Entidade-Relacionamento2.png)"
   ]
  },
  {
   "cell_type": "code",
   "execution_count": null,
   "metadata": {},
   "outputs": [],
   "source": [
    "import mysql.connector\n",
    "\n",
    "host = 'localhost'\n",
    "user = 'root'\n",
    "password = '*Mss140920@'\n",
    "database = 'olist_db'\n",
    "\n",
    "conn = mysql.connector.connect(host=host, user=user, password=password, database=database)\n",
    "\n",
    "cursor = conn.cursor()\n",
    "\n",
    "create_table_query = '''\n",
    "CREATE TABLE stg_customers (\n",
    "  pk_customer_id VARCHAR(100) PRIMARY KEY,\n",
    "  fk_order_id VARCHAR(100),\n",
    "  fk_zip_code_prefix VARCHAR(100),\n",
    "  cutomer_unique_id VARCHAR(100),\n",
    "  cutomer_city VARCHAR(100),\n",
    "  customer_state VARCHAR(100),\n",
    "  FOREIGN KEY (fk_order_id) REFERENCES stg_orders(pk_order_id),\n",
    "  FOREIGN KEY (fk_zip_code_prefix) REFERENCES stg_geolocation(pk_zip_code_prefix)\n",
    ")\n",
    "'''\n",
    "\n",
    "cursor.execute(create_table_query)\n",
    "\n",
    "conn.commit()\n",
    "conn.close()\n"
   ]
  },
  {
   "cell_type": "code",
   "execution_count": null,
   "metadata": {},
   "outputs": [],
   "source": [
    "\"\"\"import mysql.connector\n",
    "\n",
    "host = 'localhost'\n",
    "user = 'root'\n",
    "password = '*Mss140920@'\n",
    "database = 'olist_db'\n",
    "\n",
    "conn = mysql.connector.connect(host=host, user=user, password=password, database=database)\n",
    "\n",
    "cursor = conn.cursor()\n",
    "\n",
    "drop_table_query = '''\n",
    "DROP TABLE customers \n",
    "'''\n",
    "cursor.execute(drop_table_query)\n",
    "\n",
    "conn.commit()\n",
    "conn.close()\"\"\"\n"
   ]
  }
 ],
 "metadata": {
  "kernelspec": {
   "display_name": "Python 3",
   "language": "python",
   "name": "python3"
  },
  "language_info": {
   "codemirror_mode": {
    "name": "ipython",
    "version": 3
   },
   "file_extension": ".py",
   "mimetype": "text/x-python",
   "name": "python",
   "nbconvert_exporter": "python",
   "pygments_lexer": "ipython3",
   "version": "3.10.6"
  },
  "orig_nbformat": 4
 },
 "nbformat": 4,
 "nbformat_minor": 2
}
